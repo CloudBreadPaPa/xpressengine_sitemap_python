{
 "cells": [
  {
   "cell_type": "code",
   "execution_count": null,
   "metadata": {},
   "outputs": [],
   "source": [
    "# todo : change db from stage to prodction"
   ]
  },
  {
   "cell_type": "code",
   "execution_count": null,
   "metadata": {},
   "outputs": [],
   "source": [
    "import os\n",
    "from dotenv import load_dotenv\n",
    "import xml.etree.cElementTree as ET\n",
    "\n",
    "load_dotenv()\n",
    "\n",
    "MYSQL_SERVER = os.getenv(\"MYSQL_SERVER\")\n",
    "MYSQL_USER_ID = os.getenv(\"MYSQL_USER_ID\")\n",
    "MYSQL_USER_PWD = os.getenv(\"MYSQL_USER_PWD\")\n",
    "MYSQL_DB = os.getenv(\"MYSQL_DB\")\n"
   ]
  },
  {
   "cell_type": "code",
   "execution_count": null,
   "metadata": {},
   "outputs": [],
   "source": [
    "# Connect to MySQL\n",
    "class UseMySQL:\n",
    "    # Importing MySQLdb and as a smaller name for reusing it.\n",
    "    # To install MySQL Python connection use below command:\n",
    "    # pip install mysqlclient\n",
    "    \n",
    "    import MySQLdb as _mysql\n",
    "    \n",
    "    def __init__(self, host, user, password, db):\n",
    "        \"\"\"\n",
    "        Initializing MySQL details in init method.\n",
    "        Args:\n",
    "            self\n",
    "            host: Host name of the machine.\n",
    "            user: Username of mySQL DB.\n",
    "            password: Password of mySQL DB.\n",
    "            db: Database name of mySQL DB.\n",
    "        \"\"\"\n",
    "        self._host = host\n",
    "        self._user = user\n",
    "        self._password = password\n",
    "        self._db = db\n",
    "\n",
    "    def __enter__(self):\n",
    "        \"\"\"\n",
    "        This data model/dunder method is used\n",
    "        to employ auto open of my sql connection\n",
    "        and cursor inside 'with' and in turn\n",
    "        close them inside the same with the help\n",
    "        of exit method in order to avoid not so\n",
    "        closed database connections.\n",
    "        Args:\n",
    "            self\n",
    "        Returns:\n",
    "            self.cursor\n",
    "        \"\"\"\n",
    "        self._conn = self._mysql.connect(\n",
    "            host=self._host, user=self._user, passwd=self._password, db=self._db)\n",
    "        self.cursor = self._conn.cursor()\n",
    "        return self.cursor\n",
    "\n",
    "    def __exit__(self, exception_type, exception_value, traceback):\n",
    "        \"\"\"\n",
    "        This data model/dunder method is used to employ\n",
    "        auto close of connection and cursor as with block ends.\n",
    "        Args:\n",
    "            self\n",
    "            exception_type: Type of Exception.\n",
    "            exception_value: Exception Value.\n",
    "            traceback: Traceback value.\n",
    "        \"\"\"\n",
    "        self.cursor.close()\n",
    "        self._conn.close()\n"
   ]
  },
  {
   "cell_type": "code",
   "execution_count": null,
   "metadata": {},
   "outputs": [],
   "source": [
    "%%time\n",
    "# run query\n",
    "with UseMySQL(host=MYSQL_SERVER, user=MYSQL_USER_ID, password=MYSQL_USER_PWD, db=MYSQL_DB) as mySqlObj:\n",
    "    cursor = mySqlObj\n",
    "    cursor.execute(\"\"\"\n",
    "                    select \n",
    "                    rx3_documents.document_srl, \n",
    "                    rx3_documents.module_srl, \n",
    "                    rx3_modules.module, \n",
    "                    left(rx3_documents.regdate, 8),\n",
    "                    rx3_modules.mid,\n",
    "                    cast(concat('https://www.<YOUR-DOMAIN>.com/', mid, '/', document_srl) as CHAR(10000) CHARACTER SET utf8) as loc,\n",
    "                    datediff(curdate(), rx3_documents.regdate) as dd,\n",
    "                    CASE\n",
    "                        WHEN datediff(curdate(), rx3_documents.regdate) <= 7 THEN 'daily'\n",
    "                        WHEN datediff(curdate(), rx3_documents.regdate) > 7 and datediff(curdate(), rx3_documents.regdate) <= 30 THEN 'weekly'\n",
    "                        WHEN datediff(curdate(), rx3_documents.regdate) > 30 and datediff(curdate(), rx3_documents.regdate) <= 365 THEN 'monthly'\n",
    "                        WHEN datediff(curdate(), rx3_documents.regdate) > 365 THEN 'yearly'\n",
    "                    END as changefreq,\n",
    "                    CASE\n",
    "                        WHEN datediff(curdate(), rx3_documents.regdate) <= 7 THEN 0.8\n",
    "                        WHEN datediff(curdate(), rx3_documents.regdate) > 7 and datediff(curdate(), rx3_documents.regdate) <= 30 THEN 0.7\n",
    "                        WHEN datediff(curdate(), rx3_documents.regdate) > 30 and datediff(curdate(), rx3_documents.regdate) <= 365 THEN 0.6\n",
    "                        WHEN datediff(curdate(), rx3_documents.regdate) > 365 THEN 0.5\n",
    "                    END as priority\n",
    "                    from rx3_documents\n",
    "                        inner join rx3_modules \n",
    "                            on rx3_documents.module_srl = rx3_modules.module_srl\n",
    "                    where \n",
    "                    rx3_modules.module like 'page'\n",
    "                    or mid in ('board_FreeTalk', 'board_Photo', 'board_Local')\n",
    "                    order by rx3_documents.regdate desc\n",
    "                    limit 49500; \"\"\")\n",
    "    res = cursor.fetchall()  # tuple type"
   ]
  },
  {
   "cell_type": "code",
   "execution_count": null,
   "metadata": {},
   "outputs": [],
   "source": [
    "for tup1 in res[0:5]:  # check 5 result\n",
    "    s = tup1[3]\n",
    "    s = s[:4] + '-' + s[4:]\n",
    "    s = s[:7] + '-' + s[7:]\n",
    "    print(tup1[5], s, tup1[7], tup1[8]) # fetch field values"
   ]
  },
  {
   "cell_type": "code",
   "execution_count": null,
   "metadata": {},
   "outputs": [],
   "source": [
    "print(len(res))"
   ]
  },
  {
   "cell_type": "markdown",
   "metadata": {},
   "source": [
    "# Final code - generate xpressegnine sitemap"
   ]
  },
  {
   "cell_type": "code",
   "execution_count": null,
   "metadata": {},
   "outputs": [],
   "source": [
    "def set_date(raw_date):\n",
    "    raw_date = raw_date[:4] + '-' + raw_date[4:]\n",
    "    val_date = raw_date[:7] + '-' + raw_date[7:]\n",
    "    return val_date"
   ]
  },
  {
   "cell_type": "code",
   "execution_count": null,
   "metadata": {},
   "outputs": [],
   "source": [
    "%%time\n",
    "import xml.etree.cElementTree as ET\n",
    "\n",
    "d = {'xmlns':'http://www.sitemaps.org/schemas/sitemap/0.9'}  # root dict\n",
    "root = ET.Element(\"urlset\", d)\n",
    "\n",
    "for tup1 in res:\n",
    "    url = ET.SubElement(root, \"url\")\n",
    "    loc = tup1[5]\n",
    "    lastmod = set_date(tup1[3]) \n",
    "    changefreq = tup1[7]\n",
    "    priority = str(tup1[8])\n",
    "    ET.SubElement(url, \"loc\").text = loc\n",
    "    ET.SubElement(url, \"lastmod\").text = lastmod\n",
    "    ET.SubElement(url, \"changefreq\").text = changefreq\n",
    "    ET.SubElement(url, \"priority\").text = priority\n",
    "\n",
    "tree = ET.ElementTree(root)\n",
    "\n",
    "# set ET to str\n",
    "str_xml = ET.tostring(root, encoding=\"utf-8\", xml_declaration=True).decode('utf-8')\n",
    "\n",
    "# write to siteml.xml file\n",
    "text_file = open(\"sitemap.xml\", \"w\", encoding=\"utf-8\")\n",
    "text_file.write(str_xml)\n",
    "text_file.close()\n"
   ]
  },
  {
   "cell_type": "code",
   "execution_count": null,
   "metadata": {},
   "outputs": [],
   "source": []
  }
 ],
 "metadata": {
  "kernelspec": {
   "display_name": "Python 3",
   "language": "python",
   "name": "python3"
  },
  "language_info": {
   "codemirror_mode": {
    "name": "ipython",
    "version": 3
   },
   "file_extension": ".py",
   "mimetype": "text/x-python",
   "name": "python",
   "nbconvert_exporter": "python",
   "pygments_lexer": "ipython3",
   "version": "3.8.5"
  }
 },
 "nbformat": 4,
 "nbformat_minor": 4
}